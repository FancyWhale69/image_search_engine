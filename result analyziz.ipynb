{
 "cells": [
  {
   "cell_type": "code",
   "execution_count": 1,
   "metadata": {},
   "outputs": [],
   "source": [
    "import pandas as pd\n",
    "import matplotlib.pyplot as plt"
   ]
  },
  {
   "cell_type": "code",
   "execution_count": 17,
   "metadata": {},
   "outputs": [
    {
     "name": "stdout",
     "output_type": "stream",
     "text": [
      "model1_avg= 3 : 2\n",
      "model2_avg= 2 : 20\n",
      "model3_avg= 33 : 59\n"
     ]
    }
   ],
   "source": [
    "avg_time1=(215+169+164)/3\n",
    "print(\"model1_avg=\",int(avg_time1/60),\":\",int(avg_time1%60))\n",
    "\n",
    "avg_time2=(214+106+101)/3\n",
    "print(\"model2_avg=\",int(avg_time2/60),\":\",int(avg_time2%60))\n",
    "\n",
    "avg_time3=(2257+1933+1927)/3\n",
    "print(\"model3_avg=\",int(avg_time3/60),\":\",int(avg_time3%60))"
   ]
  },
  {
   "cell_type": "code",
   "execution_count": 18,
   "metadata": {},
   "outputs": [],
   "source": [
    "\n",
    "df = pd.DataFrame(index=['ssd_resent50', 'ssd_mobilenet', 'faster_rcnn'], \n",
    "data={'dog_time(sec)':[215, 214, 2257], 'dog_images(correct)':[26, 21, 30], 'dog_images(wrong)':[2, 8, 1],\n",
    "      'car_time(sec)':[169, 106, 1933], 'car_images(correct)':[63, 58, 89], 'car_images(wrong)':[2, 3, 3],\n",
    "      'person,bus_time(sec)':[164, 101, 1927], 'person,bus_images(correct)':[10, 8, 23], 'person,bus_images(wrong)':[1, 0, 2],\n",
    "      'avg_time(sec)':[avg_time1, avg_time2, avg_time3], 'over_all_images':[104, 98, 148],'over_all_accuarcy':[0.95, 0.88, 0.95]})"
   ]
  },
  {
   "cell_type": "code",
   "execution_count": 19,
   "metadata": {},
   "outputs": [
    {
     "data": {
      "text/html": [
       "<div>\n",
       "<style scoped>\n",
       "    .dataframe tbody tr th:only-of-type {\n",
       "        vertical-align: middle;\n",
       "    }\n",
       "\n",
       "    .dataframe tbody tr th {\n",
       "        vertical-align: top;\n",
       "    }\n",
       "\n",
       "    .dataframe thead th {\n",
       "        text-align: right;\n",
       "    }\n",
       "</style>\n",
       "<table border=\"1\" class=\"dataframe\">\n",
       "  <thead>\n",
       "    <tr style=\"text-align: right;\">\n",
       "      <th></th>\n",
       "      <th>dog_time(sec)</th>\n",
       "      <th>dog_images(correct)</th>\n",
       "      <th>dog_images(wrong)</th>\n",
       "      <th>car_time(sec)</th>\n",
       "      <th>car_images(correct)</th>\n",
       "      <th>car_images(wrong)</th>\n",
       "      <th>person,bus_time(sec)</th>\n",
       "      <th>person,bus_images(correct)</th>\n",
       "      <th>person,bus_images(wrong)</th>\n",
       "      <th>avg_time(sec)</th>\n",
       "      <th>over_all_images</th>\n",
       "      <th>over_all_accuarcy</th>\n",
       "    </tr>\n",
       "  </thead>\n",
       "  <tbody>\n",
       "    <tr>\n",
       "      <th>ssd_resent50</th>\n",
       "      <td>215</td>\n",
       "      <td>26</td>\n",
       "      <td>2</td>\n",
       "      <td>169</td>\n",
       "      <td>63</td>\n",
       "      <td>2</td>\n",
       "      <td>164</td>\n",
       "      <td>10</td>\n",
       "      <td>1</td>\n",
       "      <td>182.666667</td>\n",
       "      <td>104</td>\n",
       "      <td>0.95</td>\n",
       "    </tr>\n",
       "    <tr>\n",
       "      <th>ssd_mobilenet</th>\n",
       "      <td>214</td>\n",
       "      <td>21</td>\n",
       "      <td>8</td>\n",
       "      <td>106</td>\n",
       "      <td>58</td>\n",
       "      <td>3</td>\n",
       "      <td>101</td>\n",
       "      <td>8</td>\n",
       "      <td>0</td>\n",
       "      <td>140.333333</td>\n",
       "      <td>98</td>\n",
       "      <td>0.88</td>\n",
       "    </tr>\n",
       "    <tr>\n",
       "      <th>faster_rcnn</th>\n",
       "      <td>2257</td>\n",
       "      <td>30</td>\n",
       "      <td>1</td>\n",
       "      <td>1933</td>\n",
       "      <td>89</td>\n",
       "      <td>3</td>\n",
       "      <td>1927</td>\n",
       "      <td>23</td>\n",
       "      <td>2</td>\n",
       "      <td>2039.000000</td>\n",
       "      <td>148</td>\n",
       "      <td>0.95</td>\n",
       "    </tr>\n",
       "  </tbody>\n",
       "</table>\n",
       "</div>"
      ],
      "text/plain": [
       "               dog_time(sec)  dog_images(correct)  dog_images(wrong)  \\\n",
       "ssd_resent50             215                   26                  2   \n",
       "ssd_mobilenet            214                   21                  8   \n",
       "faster_rcnn             2257                   30                  1   \n",
       "\n",
       "               car_time(sec)  car_images(correct)  car_images(wrong)  \\\n",
       "ssd_resent50             169                   63                  2   \n",
       "ssd_mobilenet            106                   58                  3   \n",
       "faster_rcnn             1933                   89                  3   \n",
       "\n",
       "               person,bus_time(sec)  person,bus_images(correct)  \\\n",
       "ssd_resent50                    164                          10   \n",
       "ssd_mobilenet                   101                           8   \n",
       "faster_rcnn                    1927                          23   \n",
       "\n",
       "               person,bus_images(wrong)  avg_time(sec)  over_all_images  \\\n",
       "ssd_resent50                          1     182.666667              104   \n",
       "ssd_mobilenet                         0     140.333333               98   \n",
       "faster_rcnn                           2    2039.000000              148   \n",
       "\n",
       "               over_all_accuarcy  \n",
       "ssd_resent50                0.95  \n",
       "ssd_mobilenet               0.88  \n",
       "faster_rcnn                 0.95  "
      ]
     },
     "execution_count": 19,
     "metadata": {},
     "output_type": "execute_result"
    }
   ],
   "source": [
    "df"
   ]
  },
  {
   "cell_type": "code",
   "execution_count": null,
   "metadata": {},
   "outputs": [],
   "source": []
  }
 ],
 "metadata": {
  "kernelspec": {
   "display_name": "Python 3",
   "language": "python",
   "name": "python3"
  },
  "language_info": {
   "codemirror_mode": {
    "name": "ipython",
    "version": 3
   },
   "file_extension": ".py",
   "mimetype": "text/x-python",
   "name": "python",
   "nbconvert_exporter": "python",
   "pygments_lexer": "ipython3",
   "version": "3.7.3"
  }
 },
 "nbformat": 4,
 "nbformat_minor": 4
}
